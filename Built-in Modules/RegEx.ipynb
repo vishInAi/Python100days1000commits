{
 "cells": [
  {
   "cell_type": "markdown",
   "metadata": {},
   "source": [
    "## RegEx"
   ]
  },
  {
   "cell_type": "markdown",
   "metadata": {},
   "source": [
    "- in py, regex (Regular expression) is a tool for matching and handling strings.\n",
    "\n",
    "- function it provides : \n",
    "1. search\n",
    "2. split\n",
    "3. findall\n",
    "4. sub\n",
    "\n",
    "- built-in Module called `re`.\n",
    "- allows work with reg-expressions.\n",
    "\n",
    "let's import `re` module"
   ]
  },
  {
   "cell_type": "code",
   "execution_count": 1,
   "metadata": {},
   "outputs": [],
   "source": [
    "import re"
   ]
  },
  {
   "cell_type": "markdown",
   "metadata": {},
   "source": [
    "1. search()\n",
    "\n",
    "- searches specific patterns within string."
   ]
  },
  {
   "cell_type": "code",
   "execution_count": 2,
   "metadata": {},
   "outputs": [
    {
     "name": "stdout",
     "output_type": "stream",
     "text": [
      "Match Found!\n"
     ]
    }
   ],
   "source": [
    "s1 = \"It is what it is\"\n",
    "\n",
    "# pattern to search\n",
    "pattern = r\"what\"\n",
    "\n",
    "# use search()\n",
    "result = re.search(pattern,s1)\n",
    "\n",
    "# check if a match was found\n",
    "if result:\n",
    "    print(\"Match Found!\")\n",
    "else:\n",
    "    print(\"Match not Found.\")"
   ]
  },
  {
   "cell_type": "markdown",
   "metadata": {},
   "source": [
    "Regular expressions (RegEx) are patterns used to match and manipulate strings of text. There are several special sequences in RegEx that can be used to match specific characters or patterns.\n",
    "\n",
    "| Special Sequence | Meaning                 | \tExample             |\n",
    "| -----------  | ----------------------- | ----------------------|\n",
    "| \\d|Matches any digit character (0-9)|\"123\" matches \"\\d\\d\\d\"|\n",
    "|\\D|Matches any non-digit character|\"hello\" matches \"\\D\\D\\D\\D\\D\"|\n",
    "|\\w|Matches any word character (a-z, A-Z, 0-9, and _)|\"hello_world\" matches \"\\w\\w\\w\\w\\w\\w\\w\\w\\w\\w\\w\"|\n",
    "|\\W|Matches any non-word character|\t\"@#$%\" matches \"\\W\\W\\W\\W\"|\n",
    "|\\s|Matches any whitespace character (space, tab, newline, etc.)|\"hello world\" matches \"\\w\\w\\w\\w\\w\\s\\w\\w\\w\\w\\w\"|\n",
    "|\\S|Matches any non-whitespace character|\"hello_world\" matches \"\\S\\S\\S\\S\\S\\S\\S\\S\\S\"|\n",
    "|\\b|Matches the boundary between a word character and a non-word character|\"cat\" matches \"\\bcat\\b\" in \"The cat sat on the mat\"|\n",
    "|\\B|Matches any position that is not a word boundary|\"cat\" matches \"\\Bcat\\B\" in \"category\" but not in \"The cat sat on the mat\"|\n"
   ]
  },
  {
   "cell_type": "code",
   "execution_count": 5,
   "metadata": {},
   "outputs": [
    {
     "name": "stdout",
     "output_type": "stream",
     "text": [
      "Match found: 20000000\n"
     ]
    }
   ],
   "source": [
    "# \\d we have used here to show its use case similar in all the above given special seq.\n",
    "pattern = r\"\\d\\d\\d\\d\\d\\d\\d\\d\"\n",
    "text = \"the money has been deposited to your bank account amount : $20000000\"\n",
    "match = re.search(pattern, text) \n",
    "\n",
    "if match:\n",
    "    print(f\"Match found:\", match.group())\n",
    "else:\n",
    "    print(\"Match not found\")"
   ]
  },
  {
   "cell_type": "markdown",
   "metadata": {},
   "source": [
    "- special sequence \\d catches numbers from 0 to 9\n",
    "- defined as r\"\\d...\"\n",
    "- the spec.seq \\d is repeated as many times to match the number place value ok."
   ]
  },
  {
   "cell_type": "code",
   "execution_count": 9,
   "metadata": {},
   "outputs": [
    {
     "name": "stdout",
     "output_type": "stream",
     "text": [
      "Match found: [',', ' ', '!']\n"
     ]
    }
   ],
   "source": [
    "pattern = r\"\\W\"\n",
    "text = \"Hello, World!\"\n",
    "matches = re.findall(pattern, text)\n",
    "\n",
    "if matches:\n",
    "    print(f\"Match found:\", matches)\n",
    "else:\n",
    "    print(\"Match not found\")"
   ]
  },
  {
   "cell_type": "markdown",
   "metadata": {},
   "source": [
    "- Define pattern: r\"\\W\"\n",
    "- Match non-word characters\n",
    "- Search in: \"Hello, world!\"\n"
   ]
  },
  {
   "cell_type": "markdown",
   "metadata": {},
   "source": [
    "- `findall()`: Finds all occurrences of pattern in string\n",
    "- Pattern: Specified in `findall()`\n"
   ]
  },
  {
   "cell_type": "code",
   "execution_count": 16,
   "metadata": {},
   "outputs": [
    {
     "name": "stdout",
     "output_type": "stream",
     "text": [
      "['is', 'is']\n"
     ]
    }
   ],
   "source": [
    "s2 = \"It is what it is\"\n",
    "\n",
    "result = re.findall(\"is\",s2)\n",
    "# try putting in \"it\" and \"It\". its case sensitive ok\n",
    "print(result)"
   ]
  },
  {
   "cell_type": "markdown",
   "metadata": {},
   "source": [
    "- `split()`: Splits string into substrings based on pattern\n"
   ]
  },
  {
   "cell_type": "code",
   "execution_count": 20,
   "metadata": {},
   "outputs": [
    {
     "name": "stdout",
     "output_type": "stream",
     "text": [
      "['It', 'is', 'what', 'it', 'is']\n"
     ]
    }
   ],
   "source": [
    "split_array = re.split(r\"\\s\", s2)\n",
    "\n",
    "print(split_array)"
   ]
  },
  {
   "cell_type": "markdown",
   "metadata": {},
   "source": [
    "- `sub()`: Replaces all pattern occurrences in string with specified replacement\n"
   ]
  },
  {
   "cell_type": "code",
   "execution_count": 24,
   "metadata": {},
   "outputs": [
    {
     "name": "stdout",
     "output_type": "stream",
     "text": [
      "Legend it is\n"
     ]
    }
   ],
   "source": [
    "# def reg exp pattern to search for\n",
    "pattern = r\"It is what\"\n",
    "\n",
    "# def replacement string\n",
    "replacement = \"Legend\"\n",
    "\n",
    "# use sub func to replace pattern with replacement string\n",
    "new_string = re.sub(pattern, replacement, s2, flags=re.IGNORECASE)\n",
    "\n",
    "# new string contains original string with patterns replaced by replacement string\n",
    "print(new_string)"
   ]
  }
 ],
 "metadata": {
  "kernelspec": {
   "display_name": "Python 3",
   "language": "python",
   "name": "python3"
  },
  "language_info": {
   "codemirror_mode": {
    "name": "ipython",
    "version": 3
   },
   "file_extension": ".py",
   "mimetype": "text/x-python",
   "name": "python",
   "nbconvert_exporter": "python",
   "pygments_lexer": "ipython3",
   "version": "3.12.2"
  }
 },
 "nbformat": 4,
 "nbformat_minor": 2
}
